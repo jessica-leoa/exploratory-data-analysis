{
 "cells": [
  {
   "cell_type": "markdown",
   "id": "8c303cbc",
   "metadata": {},
   "source": [
    "# K-means"
   ]
  },
  {
   "cell_type": "code",
   "execution_count": 3,
   "id": "663e1df3",
   "metadata": {},
   "outputs": [],
   "source": [
    "# Imports\n",
    "import pandas as pd\n",
    "import numpy as np\n",
    "import matplotlib.pyplot as plt \n",
    "from matplotlib import pylab\n",
    "from sklearn.cluster import KMeans \n",
    "from sklearn.decomposition import PCA \n",
    "from sklearn.model_selection import train_test_split \n",
    "from scipy.spatial.distance import cdist, pdist \n",
    "from sklearn.metrics import silhouette_score \n",
    "import warnings \n",
    "warnings.filterwarnings(\"ignore\") \n",
    "%matplotlib inline"
   ]
  },
  {
   "cell_type": "code",
   "execution_count": 4,
   "id": "036216ca",
   "metadata": {},
   "outputs": [],
   "source": [
    "# Carregando dados e fazendo medidas para tratar grande volume de dados\n",
    "dataset = pd.read_csv('household_power_consumption.txt', delimiter = ';', low_memory = False)"
   ]
  },
  {
   "cell_type": "code",
   "execution_count": 5,
   "id": "553c416c",
   "metadata": {},
   "outputs": [
    {
     "data": {
      "text/html": [
       "<div>\n",
       "<style scoped>\n",
       "    .dataframe tbody tr th:only-of-type {\n",
       "        vertical-align: middle;\n",
       "    }\n",
       "\n",
       "    .dataframe tbody tr th {\n",
       "        vertical-align: top;\n",
       "    }\n",
       "\n",
       "    .dataframe thead th {\n",
       "        text-align: right;\n",
       "    }\n",
       "</style>\n",
       "<table border=\"1\" class=\"dataframe\">\n",
       "  <thead>\n",
       "    <tr style=\"text-align: right;\">\n",
       "      <th></th>\n",
       "      <th>Date</th>\n",
       "      <th>Time</th>\n",
       "      <th>Global_active_power</th>\n",
       "      <th>Global_reactive_power</th>\n",
       "      <th>Voltage</th>\n",
       "      <th>Global_intensity</th>\n",
       "      <th>Sub_metering_1</th>\n",
       "      <th>Sub_metering_2</th>\n",
       "      <th>Sub_metering_3</th>\n",
       "    </tr>\n",
       "  </thead>\n",
       "  <tbody>\n",
       "    <tr>\n",
       "      <th>0</th>\n",
       "      <td>16/12/2006</td>\n",
       "      <td>17:24:00</td>\n",
       "      <td>4.216</td>\n",
       "      <td>0.418</td>\n",
       "      <td>234.840</td>\n",
       "      <td>18.400</td>\n",
       "      <td>0.000</td>\n",
       "      <td>1.000</td>\n",
       "      <td>17.0</td>\n",
       "    </tr>\n",
       "    <tr>\n",
       "      <th>1</th>\n",
       "      <td>16/12/2006</td>\n",
       "      <td>17:25:00</td>\n",
       "      <td>5.360</td>\n",
       "      <td>0.436</td>\n",
       "      <td>233.630</td>\n",
       "      <td>23.000</td>\n",
       "      <td>0.000</td>\n",
       "      <td>1.000</td>\n",
       "      <td>16.0</td>\n",
       "    </tr>\n",
       "    <tr>\n",
       "      <th>2</th>\n",
       "      <td>16/12/2006</td>\n",
       "      <td>17:26:00</td>\n",
       "      <td>5.374</td>\n",
       "      <td>0.498</td>\n",
       "      <td>233.290</td>\n",
       "      <td>23.000</td>\n",
       "      <td>0.000</td>\n",
       "      <td>2.000</td>\n",
       "      <td>17.0</td>\n",
       "    </tr>\n",
       "    <tr>\n",
       "      <th>3</th>\n",
       "      <td>16/12/2006</td>\n",
       "      <td>17:27:00</td>\n",
       "      <td>5.388</td>\n",
       "      <td>0.502</td>\n",
       "      <td>233.740</td>\n",
       "      <td>23.000</td>\n",
       "      <td>0.000</td>\n",
       "      <td>1.000</td>\n",
       "      <td>17.0</td>\n",
       "    </tr>\n",
       "    <tr>\n",
       "      <th>4</th>\n",
       "      <td>16/12/2006</td>\n",
       "      <td>17:28:00</td>\n",
       "      <td>3.666</td>\n",
       "      <td>0.528</td>\n",
       "      <td>235.680</td>\n",
       "      <td>15.800</td>\n",
       "      <td>0.000</td>\n",
       "      <td>1.000</td>\n",
       "      <td>17.0</td>\n",
       "    </tr>\n",
       "  </tbody>\n",
       "</table>\n",
       "</div>"
      ],
      "text/plain": [
       "         Date      Time Global_active_power Global_reactive_power  Voltage  \\\n",
       "0  16/12/2006  17:24:00               4.216                 0.418  234.840   \n",
       "1  16/12/2006  17:25:00               5.360                 0.436  233.630   \n",
       "2  16/12/2006  17:26:00               5.374                 0.498  233.290   \n",
       "3  16/12/2006  17:27:00               5.388                 0.502  233.740   \n",
       "4  16/12/2006  17:28:00               3.666                 0.528  235.680   \n",
       "\n",
       "  Global_intensity Sub_metering_1 Sub_metering_2  Sub_metering_3  \n",
       "0           18.400          0.000          1.000            17.0  \n",
       "1           23.000          0.000          1.000            16.0  \n",
       "2           23.000          0.000          2.000            17.0  \n",
       "3           23.000          0.000          1.000            17.0  \n",
       "4           15.800          0.000          1.000            17.0  "
      ]
     },
     "execution_count": 5,
     "metadata": {},
     "output_type": "execute_result"
    }
   ],
   "source": [
    "# Conhecendo os dados do dataset através da vizualização \n",
    "dataset.head()"
   ]
  },
  {
   "cell_type": "code",
   "execution_count": 8,
   "id": "001dd252",
   "metadata": {},
   "outputs": [
    {
     "name": "stdout",
     "output_type": "stream",
     "text": [
      "<class 'pandas.core.frame.DataFrame'>\n",
      "RangeIndex: 2075259 entries, 0 to 2075258\n",
      "Data columns (total 9 columns):\n",
      " #   Column                 Dtype  \n",
      "---  ------                 -----  \n",
      " 0   Date                   object \n",
      " 1   Time                   object \n",
      " 2   Global_active_power    object \n",
      " 3   Global_reactive_power  object \n",
      " 4   Voltage                object \n",
      " 5   Global_intensity       object \n",
      " 6   Sub_metering_1         object \n",
      " 7   Sub_metering_2         object \n",
      " 8   Sub_metering_3         float64\n",
      "dtypes: float64(1), object(8)\n",
      "memory usage: 142.5+ MB\n"
     ]
    }
   ],
   "source": [
    "# Informações gerais do dataset\n",
    "dataset.info()"
   ]
  },
  {
   "cell_type": "code",
   "execution_count": 10,
   "id": "7dae53e9",
   "metadata": {},
   "outputs": [
    {
     "data": {
      "text/plain": [
       "True"
      ]
     },
     "execution_count": 10,
     "metadata": {},
     "output_type": "execute_result"
    }
   ],
   "source": [
    "# Checando valores missing com um retorno de true para sim e false para nao.\n",
    "dataset.isnull().values.any()"
   ]
  },
  {
   "cell_type": "code",
   "execution_count": 11,
   "id": "96739669",
   "metadata": {},
   "outputs": [
    {
     "data": {
      "text/plain": [
       "Date                         0\n",
       "Time                         0\n",
       "Global_active_power          0\n",
       "Global_reactive_power        0\n",
       "Voltage                      0\n",
       "Global_intensity             0\n",
       "Sub_metering_1               0\n",
       "Sub_metering_2               0\n",
       "Sub_metering_3           25979\n",
       "dtype: int64"
      ]
     },
     "execution_count": 11,
     "metadata": {},
     "output_type": "execute_result"
    }
   ],
   "source": [
    "# Checando onde esses valores nulos estão\n",
    "dataset.isnull().sum()"
   ]
  },
  {
   "cell_type": "code",
   "execution_count": 12,
   "id": "f6062042",
   "metadata": {},
   "outputs": [
    {
     "data": {
      "text/html": [
       "<div>\n",
       "<style scoped>\n",
       "    .dataframe tbody tr th:only-of-type {\n",
       "        vertical-align: middle;\n",
       "    }\n",
       "\n",
       "    .dataframe tbody tr th {\n",
       "        vertical-align: top;\n",
       "    }\n",
       "\n",
       "    .dataframe thead th {\n",
       "        text-align: right;\n",
       "    }\n",
       "</style>\n",
       "<table border=\"1\" class=\"dataframe\">\n",
       "  <thead>\n",
       "    <tr style=\"text-align: right;\">\n",
       "      <th></th>\n",
       "      <th>Global_active_power</th>\n",
       "      <th>Global_reactive_power</th>\n",
       "      <th>Voltage</th>\n",
       "      <th>Global_intensity</th>\n",
       "      <th>Sub_metering_1</th>\n",
       "      <th>Sub_metering_2</th>\n",
       "      <th>Sub_metering_3</th>\n",
       "    </tr>\n",
       "  </thead>\n",
       "  <tbody>\n",
       "    <tr>\n",
       "      <th>0</th>\n",
       "      <td>4.216</td>\n",
       "      <td>0.418</td>\n",
       "      <td>234.840</td>\n",
       "      <td>18.400</td>\n",
       "      <td>0.000</td>\n",
       "      <td>1.000</td>\n",
       "      <td>17.0</td>\n",
       "    </tr>\n",
       "    <tr>\n",
       "      <th>1</th>\n",
       "      <td>5.360</td>\n",
       "      <td>0.436</td>\n",
       "      <td>233.630</td>\n",
       "      <td>23.000</td>\n",
       "      <td>0.000</td>\n",
       "      <td>1.000</td>\n",
       "      <td>16.0</td>\n",
       "    </tr>\n",
       "    <tr>\n",
       "      <th>2</th>\n",
       "      <td>5.374</td>\n",
       "      <td>0.498</td>\n",
       "      <td>233.290</td>\n",
       "      <td>23.000</td>\n",
       "      <td>0.000</td>\n",
       "      <td>2.000</td>\n",
       "      <td>17.0</td>\n",
       "    </tr>\n",
       "    <tr>\n",
       "      <th>3</th>\n",
       "      <td>5.388</td>\n",
       "      <td>0.502</td>\n",
       "      <td>233.740</td>\n",
       "      <td>23.000</td>\n",
       "      <td>0.000</td>\n",
       "      <td>1.000</td>\n",
       "      <td>17.0</td>\n",
       "    </tr>\n",
       "    <tr>\n",
       "      <th>4</th>\n",
       "      <td>3.666</td>\n",
       "      <td>0.528</td>\n",
       "      <td>235.680</td>\n",
       "      <td>15.800</td>\n",
       "      <td>0.000</td>\n",
       "      <td>1.000</td>\n",
       "      <td>17.0</td>\n",
       "    </tr>\n",
       "  </tbody>\n",
       "</table>\n",
       "</div>"
      ],
      "text/plain": [
       "  Global_active_power Global_reactive_power  Voltage Global_intensity  \\\n",
       "0               4.216                 0.418  234.840           18.400   \n",
       "1               5.360                 0.436  233.630           23.000   \n",
       "2               5.374                 0.498  233.290           23.000   \n",
       "3               5.388                 0.502  233.740           23.000   \n",
       "4               3.666                 0.528  235.680           15.800   \n",
       "\n",
       "  Sub_metering_1 Sub_metering_2  Sub_metering_3  \n",
       "0          0.000          1.000            17.0  \n",
       "1          0.000          1.000            16.0  \n",
       "2          0.000          2.000            17.0  \n",
       "3          0.000          1.000            17.0  \n",
       "4          0.000          1.000            17.0  "
      ]
     },
     "execution_count": 12,
     "metadata": {},
     "output_type": "execute_result"
    }
   ],
   "source": [
    "## PRÉ-PROCESSANDO DOS DADOS: TRABALHANDO COM OS DADOS APÓS ENTENDIMENTO DO DATASET\n",
    "\n",
    "# Remove os registros com valores NA e remove as duas primeiras colunas que nao servirao para a análise que farei\n",
    "dataset = dataset.iloc[0:, 2:9].dropna()\n",
    "dataset.head()"
   ]
  },
  {
   "cell_type": "code",
   "execution_count": 13,
   "id": "81f0a943",
   "metadata": {},
   "outputs": [],
   "source": [
    "# Obtém os valores dos atributos. Obtém os valores de cada variável em um formato array.\n",
    "dataset_atrib = dataset.values"
   ]
  },
  {
   "cell_type": "code",
   "execution_count": 14,
   "id": "96c2df45",
   "metadata": {},
   "outputs": [
    {
     "data": {
      "text/plain": [
       "array([['4.216', '0.418', '234.840', ..., '0.000', '1.000', 17.0],\n",
       "       ['5.360', '0.436', '233.630', ..., '0.000', '1.000', 16.0],\n",
       "       ['5.374', '0.498', '233.290', ..., '0.000', '2.000', 17.0],\n",
       "       ...,\n",
       "       ['0.938', '0.000', '239.820', ..., '0.000', '0.000', 0.0],\n",
       "       ['0.934', '0.000', '239.700', ..., '0.000', '0.000', 0.0],\n",
       "       ['0.932', '0.000', '239.550', ..., '0.000', '0.000', 0.0]],\n",
       "      dtype=object)"
      ]
     },
     "execution_count": 14,
     "metadata": {},
     "output_type": "execute_result"
    }
   ],
   "source": [
    "# Imprimindo array (Variáveis de entrada X)\n",
    "dataset_atrib"
   ]
  },
  {
   "cell_type": "code",
   "execution_count": 15,
   "id": "2160a0fe",
   "metadata": {},
   "outputs": [],
   "source": [
    " # Coletando amostras de 1% do total dos meus dados para nao comprometer a memória do pc\n",
    "dataset, amostra2 = train_test_split(dataset_atrib, train_size = .01)"
   ]
  },
  {
   "cell_type": "code",
   "execution_count": 18,
   "id": "f8f6f11b",
   "metadata": {},
   "outputs": [
    {
     "data": {
      "text/plain": [
       "(20492, 7)"
      ]
     },
     "execution_count": 18,
     "metadata": {},
     "output_type": "execute_result"
    }
   ],
   "source": [
    "# Checando a qtd de dados representante dos 1%\n",
    "dataset.shape"
   ]
  },
  {
   "cell_type": "markdown",
   "id": "228db467",
   "metadata": {},
   "source": [
    "## MÁQUINA PREDITIVA SEGMENTAÇÃO DE CLIENTE \n",
    "#### => Nessa etapa será efim iniciada as analises desejadas\n",
    "\n",
    "Aqui usarei a CPA que é uma técnica de aprendizagem nao supervisionada utilizada para reduzir a dimensionalidade dos dados, e aqui usarei para reduzir a quantidade as variáveis.\n",
    "\n",
    "O que irá acontecer?\n",
    "- Transformamos as 7 variáveis em 2 variáveis (na verdade 2 componentes principais). O Importante é entender que a transformação foi realizada por meio de Matemática (Algebra), simples assim. O que aconteceu foi que juntamos as variáveis de acordo com sua semelhança entre si. Essa semelhança foi medida pela variância...\n"
   ]
  },
  {
   "cell_type": "code",
   "execution_count": 20,
   "id": "c74a1b81",
   "metadata": {},
   "outputs": [],
   "source": [
    "# Aplica redução de dimensionalidade no array das variáveis \n",
    "pca = PCA(n_components = 2).fit_transform(dataset)"
   ]
  },
  {
   "cell_type": "code",
   "execution_count": 24,
   "id": "b4508f4b",
   "metadata": {},
   "outputs": [
    {
     "data": {
      "text/plain": [
       "range(1, 12)"
      ]
     },
     "execution_count": 24,
     "metadata": {},
     "output_type": "execute_result"
    }
   ],
   "source": [
    "# Criar um range de 12 elementos do Hyperparâmetro \"K\" do K-means (representando a qtd de grupos que quero)\n",
    "# Garante uma avaliacao quantitativa de qtd de K ideal com base nos numeros de dados disposníveis\n",
    "# Às vezes, o número de clusters é definido por requisitos de negócios ou a motivação para a análise.  \n",
    "# A junção de uma avaliacao quantitativa com a qualitativa para melhor resultado\n",
    "\n",
    "k_range = range(1,12)\n",
    "k_range"
   ]
  },
  {
   "cell_type": "code",
   "execution_count": 27,
   "id": "7cd5b595",
   "metadata": {},
   "outputs": [],
   "source": [
    "# Aplicando o modelo K-Means para cada valor de K (esta célula pode levar bastante tempo para ser executada) \n",
    "# Criando 12 máquinas preditivas, cada uma com um valor de K diferente para escolher a melhor.\n",
    "k_means_var = [KMeans(n_clusters = k).fit(pca) for k in k_range]"
   ]
  },
  {
   "cell_type": "markdown",
   "id": "25d2cacb",
   "metadata": {},
   "source": [
    "# Curva de Elbow\n",
    "### Usarei esse conceito para me ajudar a calcular algumas medidas "
   ]
  },
  {
   "cell_type": "code",
   "execution_count": 28,
   "id": "cdc1fb7e",
   "metadata": {},
   "outputs": [
    {
     "data": {
      "text/plain": [
       "Text(0.5, 1.0, 'Variância Explicada para cada Valor de K')"
      ]
     },
     "execution_count": 28,
     "metadata": {},
     "output_type": "execute_result"
    },
    {
     "data": {
      "image/png": "[encoded data removed]",
      "text/plain": [
       "<Figure size 432x288 with 1 Axes>"
      ]
     },
     "metadata": {
      "needs_background": "light"
     },
     "output_type": "display_data"
    }
   ],
   "source": [
    "# Ajustando o centróide do cluster para cada modelo \n",
    "centroids = [X.cluster_centers_ for X in k_means_var] \n",
    " \n",
    "# Calculando a distância euclidiana de cada ponto de dado para o centróide \n",
    "k_euclid = [cdist(pca, cent, 'euclidean') for cent in centroids] \n",
    "dist = [np.min(ke, axis = 1) for ke in k_euclid] \n",
    " \n",
    "# Soma dos quadrados das distâncias dentro do cluster \n",
    "soma_quadrados_intra_cluster = [sum(d**2) for d in dist] \n",
    " \n",
    "# Soma total dos quadrados \n",
    "soma_total = sum(pdist(pca)**2)/pca.shape[0] \n",
    " \n",
    "# Soma dos quadrados entre clusters \n",
    "soma_quadrados_inter_cluster = soma_total - soma_quadrados_intra_cluster \n",
    " \n",
    "# Curva de Elbow (é nessa variancia do Elbow que descubro o melhor n° de clusters para minha predicoes)\n",
    "fig = plt.figure() \n",
    "ax = fig.add_subplot(111) \n",
    "ax.plot(k_range, soma_quadrados_inter_cluster/soma_total * 100, 'b*-') \n",
    "ax.set_ylim((0,100)) \n",
    "plt.grid(True) \n",
    "plt.xlabel('N° de Clusters') \n",
    "plt.ylabel('% de Variância Explicada') \n",
    "plt.title('Variância Explicada para cada Valor de K')"
   ]
  },
  {
   "cell_type": "markdown",
   "id": "1199de27",
   "metadata": {},
   "source": [
    "### Escolhendo um valor de K inicial igual a 8 (com base no meu valor de variancia explicada) para avaliação da máquina preditiva\n"
   ]
  },
  {
   "cell_type": "code",
   "execution_count": 30,
   "id": "bc32c239",
   "metadata": {},
   "outputs": [
    {
     "data": {
      "text/plain": [
       "KMeans()"
      ]
     },
     "execution_count": 30,
     "metadata": {},
     "output_type": "execute_result"
    }
   ],
   "source": [
    "# Criando um modelo com K = 8 \n",
    "modelo_v1 = KMeans(n_clusters = 8) \n",
    "modelo_v1.fit(pca)"
   ]
  },
  {
   "cell_type": "markdown",
   "id": "1dba1743",
   "metadata": {},
   "source": [
    "## Avalição da máquina preditiva\n",
    "\n",
    "#### > Avaliando a Máquina Preditiva V1 com k=8"
   ]
  },
  {
   "cell_type": "code",
   "execution_count": 31,
   "id": "95e15a88",
   "metadata": {},
   "outputs": [],
   "source": [
    "# Avaliando a Máquina Preditiva V1 com k=8\n",
    "# Obtém os valores mínimos e máximos e organiza o shape \n",
    "x_min, x_max = pca[:, 0].min() - 5, pca[:, 0].max() - 1 \n",
    "y_min, y_max = pca[:, 1].min() + 1, pca[:, 1].max() + 5 \n",
    "xx, yy = np.meshgrid(np.arange(x_min, x_max, .02), np.arange(y_min, y_max, .02)) \n",
    "Z = modelo_v1.predict(np.c_[xx.ravel(), yy.ravel()]) \n",
    "Z = Z.reshape(xx.shape)"
   ]
  },
  {
   "cell_type": "code",
   "execution_count": 32,
   "id": "742d9492",
   "metadata": {},
   "outputs": [
    {
     "data": {
      "text/plain": [
       "<matplotlib.image.AxesImage at 0x12293b940>"
      ]
     },
     "execution_count": 32,
     "metadata": {},
     "output_type": "execute_result"
    },
    {
     "data": {
      "image/png": "[encoded data removed]",
      "text/plain": [
       "<Figure size 432x288 with 1 Axes>"
      ]
     },
     "metadata": {
      "needs_background": "light"
     },
     "output_type": "display_data"
    }
   ],
   "source": [
    "# Plot das áreas dos clusters (Visualizando meus agrupamentos)\n",
    "plt.figure(1) \n",
    "plt.clf() \n",
    "plt.imshow(Z,  \n",
    "           interpolation = 'nearest', \n",
    "           extent = (xx.min(), xx.max(), yy.min(), yy.max()), \n",
    "           cmap = plt.cm.Paired, \n",
    "           aspect = 'auto',  \n",
    "           origin = 'lower')"
   ]
  },
  {
   "cell_type": "code",
   "execution_count": 35,
   "id": "ee7561ba",
   "metadata": {},
   "outputs": [],
   "source": [
    "# Métrica de avaliação para Clusterização (o n° de clusteres que melhor representará meus grupos necessários)\n",
    "# O melhor valor é 1 e o pior valor é -1 \n",
    "?silhouette_score\n",
    "\n"
   ]
  },
  {
   "cell_type": "code",
   "execution_count": 38,
   "id": "f117288f",
   "metadata": {},
   "outputs": [
    {
     "data": {
      "text/plain": [
       "0.6565589986206574"
      ]
     },
     "execution_count": 38,
     "metadata": {},
     "output_type": "execute_result"
    }
   ],
   "source": [
    "# Silhouette Score \n",
    "\n",
    "# Silhouette refere-se a um método de interpretação e validação de consistência dentro de agrupamentos de dados. \n",
    "# A técnica fornece uma representação gráfica sucinta de quão bem cada objeto foi classificado.\n",
    "\n",
    "labels = modelo_v1.labels_ \n",
    "silhouette_score(pca, labels, metric = 'euclidean')"
   ]
  },
  {
   "cell_type": "markdown",
   "id": "a848d25d",
   "metadata": {},
   "source": [
    "#### > Avaliando a Máquina Preditiva V2 com k=9"
   ]
  },
  {
   "cell_type": "code",
   "execution_count": 39,
   "id": "826e1b9d",
   "metadata": {},
   "outputs": [
    {
     "data": {
      "text/plain": [
       "KMeans(n_clusters=9)"
      ]
     },
     "execution_count": 39,
     "metadata": {},
     "output_type": "execute_result"
    }
   ],
   "source": [
    "# Criando um modelo com K = 9 \n",
    "modelo_v2 = KMeans(n_clusters = 9) \n",
    "modelo_v2.fit(pca)"
   ]
  },
  {
   "cell_type": "code",
   "execution_count": 40,
   "id": "18e655c1",
   "metadata": {},
   "outputs": [
    {
     "data": {
      "text/plain": [
       "0.6263789310614061"
      ]
     },
     "execution_count": 40,
     "metadata": {},
     "output_type": "execute_result"
    }
   ],
   "source": [
    "# Silhouette Score \n",
    "labels = modelo_v2.labels_ \n",
    "silhouette_score(pca, labels, metric = 'euclidean')"
   ]
  },
  {
   "cell_type": "markdown",
   "id": "da707662",
   "metadata": {},
   "source": [
    "#### > Avaliando a Máquina Preditiva V3 com K=10\n"
   ]
  },
  {
   "cell_type": "code",
   "execution_count": 41,
   "id": "8cc1df94",
   "metadata": {},
   "outputs": [
    {
     "data": {
      "text/plain": [
       "KMeans(n_clusters=10)"
      ]
     },
     "execution_count": 41,
     "metadata": {},
     "output_type": "execute_result"
    }
   ],
   "source": [
    "# Criando um modelo com K = 10 \n",
    "modelo_v2 = KMeans(n_clusters = 10) \n",
    "modelo_v2.fit(pca)"
   ]
  },
  {
   "cell_type": "code",
   "execution_count": 42,
   "id": "7754b1ed",
   "metadata": {},
   "outputs": [
    {
     "data": {
      "text/plain": [
       "0.6161117511263637"
      ]
     },
     "execution_count": 42,
     "metadata": {},
     "output_type": "execute_result"
    }
   ],
   "source": [
    "# Silhouette Score \n",
    "labels = modelo_v2.labels_ \n",
    "silhouette_score(pca, labels, metric = 'euclidean')"
   ]
  },
  {
   "cell_type": "markdown",
   "id": "c660a6a5",
   "metadata": {},
   "source": [
    "## Usando a Marcação dos Clusters da Máquina Preditiva Final"
   ]
  },
  {
   "cell_type": "code",
   "execution_count": 43,
   "id": "fe330853",
   "metadata": {},
   "outputs": [],
   "source": [
    "# Lista com nomes das colunas \n",
    "names = ['Global_active_power', 'Global_reactive_power', 'Voltage', 'Global_intensity', 'Sub_metering_1', 'Sub_metering_2', 'Sub_metering_3']"
   ]
  },
  {
   "cell_type": "code",
   "execution_count": 44,
   "id": "6106444e",
   "metadata": {},
   "outputs": [],
   "source": [
    "# Incluindo o n° do cluster na base de clientes \n",
    "cluster_map = pd.DataFrame(dataset, columns = names) \n",
    "cluster_map['Global_active_power'] = pd.to_numeric(cluster_map['Global_active_power']) \n",
    "cluster_map['cluster'] = modelo_v1.labels_"
   ]
  },
  {
   "cell_type": "code",
   "execution_count": 45,
   "id": "c2b2af48",
   "metadata": {},
   "outputs": [
    {
     "data": {
      "text/html": [
       "<div>\n",
       "<style scoped>\n",
       "    .dataframe tbody tr th:only-of-type {\n",
       "        vertical-align: middle;\n",
       "    }\n",
       "\n",
       "    .dataframe tbody tr th {\n",
       "        vertical-align: top;\n",
       "    }\n",
       "\n",
       "    .dataframe thead th {\n",
       "        text-align: right;\n",
       "    }\n",
       "</style>\n",
       "<table border=\"1\" class=\"dataframe\">\n",
       "  <thead>\n",
       "    <tr style=\"text-align: right;\">\n",
       "      <th></th>\n",
       "      <th>Global_active_power</th>\n",
       "      <th>Global_reactive_power</th>\n",
       "      <th>Voltage</th>\n",
       "      <th>Global_intensity</th>\n",
       "      <th>Sub_metering_1</th>\n",
       "      <th>Sub_metering_2</th>\n",
       "      <th>Sub_metering_3</th>\n",
       "      <th>cluster</th>\n",
       "    </tr>\n",
       "  </thead>\n",
       "  <tbody>\n",
       "    <tr>\n",
       "      <th>0</th>\n",
       "      <td>1.814</td>\n",
       "      <td>0.000</td>\n",
       "      <td>245.390</td>\n",
       "      <td>7.400</td>\n",
       "      <td>0.000</td>\n",
       "      <td>0.000</td>\n",
       "      <td>19.0</td>\n",
       "      <td>1</td>\n",
       "    </tr>\n",
       "    <tr>\n",
       "      <th>1</th>\n",
       "      <td>0.152</td>\n",
       "      <td>0.000</td>\n",
       "      <td>238.600</td>\n",
       "      <td>0.600</td>\n",
       "      <td>0.000</td>\n",
       "      <td>0.000</td>\n",
       "      <td>1.0</td>\n",
       "      <td>5</td>\n",
       "    </tr>\n",
       "    <tr>\n",
       "      <th>2</th>\n",
       "      <td>1.744</td>\n",
       "      <td>0.080</td>\n",
       "      <td>246.320</td>\n",
       "      <td>7.200</td>\n",
       "      <td>0.000</td>\n",
       "      <td>0.000</td>\n",
       "      <td>18.0</td>\n",
       "      <td>1</td>\n",
       "    </tr>\n",
       "    <tr>\n",
       "      <th>3</th>\n",
       "      <td>3.528</td>\n",
       "      <td>0.112</td>\n",
       "      <td>239.800</td>\n",
       "      <td>14.600</td>\n",
       "      <td>0.000</td>\n",
       "      <td>37.000</td>\n",
       "      <td>19.0</td>\n",
       "      <td>2</td>\n",
       "    </tr>\n",
       "    <tr>\n",
       "      <th>4</th>\n",
       "      <td>0.246</td>\n",
       "      <td>0.052</td>\n",
       "      <td>240.950</td>\n",
       "      <td>1.000</td>\n",
       "      <td>0.000</td>\n",
       "      <td>0.000</td>\n",
       "      <td>0.0</td>\n",
       "      <td>5</td>\n",
       "    </tr>\n",
       "    <tr>\n",
       "      <th>...</th>\n",
       "      <td>...</td>\n",
       "      <td>...</td>\n",
       "      <td>...</td>\n",
       "      <td>...</td>\n",
       "      <td>...</td>\n",
       "      <td>...</td>\n",
       "      <td>...</td>\n",
       "      <td>...</td>\n",
       "    </tr>\n",
       "    <tr>\n",
       "      <th>20487</th>\n",
       "      <td>0.248</td>\n",
       "      <td>0.220</td>\n",
       "      <td>241.060</td>\n",
       "      <td>1.400</td>\n",
       "      <td>0.000</td>\n",
       "      <td>1.000</td>\n",
       "      <td>0.0</td>\n",
       "      <td>5</td>\n",
       "    </tr>\n",
       "    <tr>\n",
       "      <th>20488</th>\n",
       "      <td>3.164</td>\n",
       "      <td>0.134</td>\n",
       "      <td>238.330</td>\n",
       "      <td>14.200</td>\n",
       "      <td>0.000</td>\n",
       "      <td>20.000</td>\n",
       "      <td>18.0</td>\n",
       "      <td>2</td>\n",
       "    </tr>\n",
       "    <tr>\n",
       "      <th>20489</th>\n",
       "      <td>0.308</td>\n",
       "      <td>0.056</td>\n",
       "      <td>244.770</td>\n",
       "      <td>1.200</td>\n",
       "      <td>0.000</td>\n",
       "      <td>2.000</td>\n",
       "      <td>0.0</td>\n",
       "      <td>5</td>\n",
       "    </tr>\n",
       "    <tr>\n",
       "      <th>20490</th>\n",
       "      <td>3.442</td>\n",
       "      <td>0.050</td>\n",
       "      <td>230.730</td>\n",
       "      <td>14.800</td>\n",
       "      <td>0.000</td>\n",
       "      <td>36.000</td>\n",
       "      <td>0.0</td>\n",
       "      <td>3</td>\n",
       "    </tr>\n",
       "    <tr>\n",
       "      <th>20491</th>\n",
       "      <td>1.318</td>\n",
       "      <td>0.000</td>\n",
       "      <td>240.390</td>\n",
       "      <td>5.400</td>\n",
       "      <td>0.000</td>\n",
       "      <td>0.000</td>\n",
       "      <td>18.0</td>\n",
       "      <td>1</td>\n",
       "    </tr>\n",
       "  </tbody>\n",
       "</table>\n",
       "<p>20492 rows × 8 columns</p>\n",
       "</div>"
      ],
      "text/plain": [
       "       Global_active_power Global_reactive_power  Voltage Global_intensity  \\\n",
       "0                    1.814                 0.000  245.390            7.400   \n",
       "1                    0.152                 0.000  238.600            0.600   \n",
       "2                    1.744                 0.080  246.320            7.200   \n",
       "3                    3.528                 0.112  239.800           14.600   \n",
       "4                    0.246                 0.052  240.950            1.000   \n",
       "...                    ...                   ...      ...              ...   \n",
       "20487                0.248                 0.220  241.060            1.400   \n",
       "20488                3.164                 0.134  238.330           14.200   \n",
       "20489                0.308                 0.056  244.770            1.200   \n",
       "20490                3.442                 0.050  230.730           14.800   \n",
       "20491                1.318                 0.000  240.390            5.400   \n",
       "\n",
       "      Sub_metering_1 Sub_metering_2 Sub_metering_3  cluster  \n",
       "0              0.000          0.000           19.0        1  \n",
       "1              0.000          0.000            1.0        5  \n",
       "2              0.000          0.000           18.0        1  \n",
       "3              0.000         37.000           19.0        2  \n",
       "4              0.000          0.000            0.0        5  \n",
       "...              ...            ...            ...      ...  \n",
       "20487          0.000          1.000            0.0        5  \n",
       "20488          0.000         20.000           18.0        2  \n",
       "20489          0.000          2.000            0.0        5  \n",
       "20490          0.000         36.000            0.0        3  \n",
       "20491          0.000          0.000           18.0        1  \n",
       "\n",
       "[20492 rows x 8 columns]"
      ]
     },
     "execution_count": 45,
     "metadata": {},
     "output_type": "execute_result"
    }
   ],
   "source": [
    "cluster_map"
   ]
  },
  {
   "cell_type": "code",
   "execution_count": 46,
   "id": "bb4cf17b",
   "metadata": {},
   "outputs": [
    {
     "data": {
      "text/plain": [
       "cluster\n",
       "0    1.442104\n",
       "1    1.812662\n",
       "2    4.010993\n",
       "3    2.945311\n",
       "4    1.072735\n",
       "5    0.363244\n",
       "6    6.191909\n",
       "7    2.421344\n",
       "Name: Global_active_power, dtype: float64"
      ]
     },
     "execution_count": 46,
     "metadata": {},
     "output_type": "execute_result"
    }
   ],
   "source": [
    "# Calcula a média de consumo de energia por cluster para interpretar meu grupo, nao dados isolados \n",
    "cluster_map.groupby('cluster')['Global_active_power'].mean()"
   ]
  },
  {
   "cell_type": "markdown",
   "id": "654505c9",
   "metadata": {},
   "source": [
    "# <font color='green'>Conclusão Final </font>"
   ]
  },
  {
   "cell_type": "markdown",
   "id": "323c2745",
   "metadata": {},
   "source": [
    "### Essa analise me permitiu identificar os 8 principais grupos de consumidores e a partir do seu consumo de energia, e esses dados podem trazem insigths gigantes para a empresa, pois a partir dessa anlálise podem surgir questionamentos hipoteses como: já que o Cluster 6 é o maior consomidor e isso pode representar diversas questionamentos, como: \"Será que esse grupo tem uma maior quantidade de eletrodomestico?\" e esse questionamento pode nos levar a outros pré supostos, como por exemplo: \"será esse grupo tem mais eletrodomésticos, certamente tem um maior poder aquisitivo\". \n",
    "### Ou se por acaso queira se analisar porquê o cluster 5 o consumo é tão mais abaixo da médica comparado aos outro,\"será que essa parcela representa grupos de familias compostas por pessoas que nao tem filhos e passa o dia fora de casa trabalhando\". \n",
    "### Ou até \"será que se dar pelo fato de terem problema com distribuicao de energia?\" ...e assim por diante. \n",
    "### Veja que com esses dados de consumo gerados apartir dos clusters de clientes é possível descobrir muito mais sobre os grupos de clientes, podendo se fazer de fato uma análises estratégica baseadas em dados que traga grande valor de negócio para o negócio."
   ]
  }
 ],
 "metadata": {
  "kernelspec": {
   "display_name": "Python 3 (ipykernel)",
   "language": "python",
   "name": "python3"
  },
  "language_info": {
   "codemirror_mode": {
    "name": "ipython",
    "version": 3
   },
   "file_extension": ".py",
   "mimetype": "text/x-python",
   "name": "python",
   "nbconvert_exporter": "python",
   "pygments_lexer": "ipython3",
   "version": "3.9.12"
  }
 },
 "nbformat": 4,
 "nbformat_minor": 5
}
